{
 "cells": [
  {
   "cell_type": "markdown",
   "id": "c2b8c4f7",
   "metadata": {},
   "source": [
    "Charger Source bdd"
   ]
  },
  {
   "cell_type": "code",
   "execution_count": 1,
   "id": "8cee0ba6-afa4-4bab-96ab-b38a8a869160",
   "metadata": {},
   "outputs": [],
   "source": [
    "from pyspark.sql import SparkSession\n",
    "from datetime import datetime, timedelta\n",
    "from pyspark.sql.functions import lit\n",
    "jdbc_driver_path = \"/opt/conda/lib/mysql-connector-j-8.3.0.jar\"\n",
    "\n",
    "spark = SparkSession.builder \\\n",
    "    .appName(\"PySparkMySQL\") \\\n",
    "    .master(\"local[*]\") \\\n",
    "    .config(\"spark.driver.memory\", \"4g\") \\\n",
    "    .config(\"spark.executor.memory\", \"4g\") \\\n",
    "    .config(\"spark.driver.extraClassPath\", jdbc_driver_path) \\\n",
    "    .getOrCreate()\n",
    "# Connexion à la base MySQL\n",
    "url = \"jdbc:mysql://172.17.0.2:3306/Source\"\n",
    "# Propriétés de connexion\n",
    "properties = {\n",
    "    \"user\": \"root\",\n",
    "    \"password\": \"amar\",\n",
    "    \"driver\": \"com.mysql.cj.jdbc.Driver\"\n",
    "}"
   ]
  },
  {
   "cell_type": "code",
   "execution_count": 2,
   "id": "d78ba799-3fc2-4362-890d-b9f3e16491cb",
   "metadata": {},
   "outputs": [
    {
     "name": "stdout",
     "output_type": "stream",
     "text": [
      "+-------+-------------------+---------+-------+-------+------------------+-----------+---------------+--------------+-------+----+------+-------------------+\n",
      "|     id|               date|client_id|card_id| amount|          use_chip|merchant_id|  merchant_city|merchant_state|    zip| mcc|errors|     situation_date|\n",
      "+-------+-------------------+---------+-------+-------+------------------+-----------+---------------+--------------+-------+----+------+-------------------+\n",
      "|7475327|2010-01-01 00:01:00|     1556|   2972|$-77.00| Swipe Transaction|      59935|         Beulah|            ND|58523.0|5499|  NULL|2025-05-24 14:56:08|\n",
      "|7475328|2010-01-01 00:02:00|      561|   4575| $14.57| Swipe Transaction|      67570|     Bettendorf|            IA|52722.0|5311|  NULL|2025-05-24 14:56:08|\n",
      "|7475329|2010-01-01 00:02:00|     1129|    102| $80.00| Swipe Transaction|      27092|          Vista|            CA|92084.0|4829|  NULL|2025-05-24 14:56:08|\n",
      "|7475331|2010-01-01 00:05:00|      430|   2860|$200.00| Swipe Transaction|      27092|    Crown Point|            IN|46307.0|4829|  NULL|2025-05-24 14:56:08|\n",
      "|7475332|2010-01-01 00:06:00|      848|   3915| $46.41| Swipe Transaction|      13051|        Harwood|            MD|20776.0|5813|  NULL|2025-05-24 14:56:08|\n",
      "|7475333|2010-01-01 00:07:00|     1807|    165|  $4.81| Swipe Transaction|      20519|          Bronx|            NY|10464.0|5942|  NULL|2025-05-24 14:56:08|\n",
      "|7475334|2010-01-01 00:09:00|     1556|   2972| $77.00| Swipe Transaction|      59935|         Beulah|            ND|58523.0|5499|  NULL|2025-05-24 14:56:08|\n",
      "|7475335|2010-01-01 00:14:00|     1684|   2140| $26.46|Online Transaction|      39021|         ONLINE|          NULL|   NULL|4784|  NULL|2025-05-24 14:56:08|\n",
      "|7475336|2010-01-01 00:21:00|      335|   5131|$261.58|Online Transaction|      50292|         ONLINE|          NULL|   NULL|7801|  NULL|2025-05-24 14:56:08|\n",
      "|7475337|2010-01-01 00:21:00|      351|   1112| $10.74| Swipe Transaction|       3864|       Flushing|            NY|11355.0|5813|  NULL|2025-05-24 14:56:08|\n",
      "|7475338|2010-01-01 00:23:00|      554|   3912|  $3.51| Swipe Transaction|      67570|       Pearland|            TX|77581.0|5311|  NULL|2025-05-24 14:56:08|\n",
      "|7475339|2010-01-01 00:23:00|      605|   5061|  $2.58| Swipe Transaction|      75781|       Brooklyn|            NY|11210.0|5411|  NULL|2025-05-24 14:56:08|\n",
      "|7475340|2010-01-01 00:26:00|     1556|   2972| $39.63| Swipe Transaction|      59935|         Beulah|            ND|58523.0|5499|  NULL|2025-05-24 14:56:08|\n",
      "|7475341|2010-01-01 00:27:00|     1797|   1127| $43.33| Swipe Transaction|      33326|        Kahului|            HI|96732.0|4121|  NULL|2025-05-24 14:56:08|\n",
      "|7475342|2010-01-01 00:30:00|      114|   3398| $49.42| Swipe Transaction|      61195|North Hollywood|            CA|91606.0|5541|  NULL|2025-05-24 14:56:08|\n",
      "|7475343|2010-01-01 00:31:00|     1634|   2464|  $1.09| Swipe Transaction|      20519|     San Benito|            TX|78586.0|5942|  NULL|2025-05-24 14:56:08|\n",
      "|7475344|2010-01-01 00:32:00|      646|   2093| $73.79| Swipe Transaction|       1636|           Erie|            PA|16511.0|7538|  NULL|2025-05-24 14:56:08|\n",
      "|7475345|2010-01-01 00:32:00|     1129|   5492|$100.00| Swipe Transaction|      27092|          Vista|            CA|92084.0|4829|  NULL|2025-05-24 14:56:08|\n",
      "|7475346|2010-01-01 00:34:00|      394|   4717| $26.04|Online Transaction|      39021|         ONLINE|          NULL|   NULL|4784|  NULL|2025-05-24 14:56:08|\n",
      "|7475347|2010-01-01 00:36:00|      114|   3398|$-64.00| Swipe Transaction|      61195|North Hollywood|            CA|91606.0|5541|  NULL|2025-05-24 14:56:08|\n",
      "+-------+-------------------+---------+-------+-------+------------------+-----------+---------------+--------------+-------+----+------+-------------------+\n",
      "only showing top 20 rows\n",
      "\n",
      "Données chargées avec succès dans la table MySQL transactions avec la date 2025-05-24 14:56:08.166116.\n"
     ]
    }
   ],
   "source": [
    "df = spark.read.option(\"header\", \"true\").option(\"inferSchema\", \"true\").csv(\"transactions_data.csv\")\n",
    "hier = datetime.now() - timedelta(days=1)\n",
    "hier_str = hier.strftime(\"%Y-%m-%d %H:%M:%S\")\n",
    "df = df.withColumn(\"situation_date\", lit(hier_str))\n",
    "count = df.count()\n",
    "half_df = df.limit(count // 2)\n",
    "half_df.show()\n",
    "half_df.write.jdbc(url=url, table=\"transactions\", mode=\"overwrite\", properties=properties)\n",
    "\n",
    "print(f\"Données chargées avec succès dans la table MySQL transactions avec la date {hier}.\")"
   ]
  },
  {
   "cell_type": "code",
   "execution_count": null,
   "id": "0b31d3d0-da66-4d7f-a80e-eec239d81254",
   "metadata": {},
   "outputs": [
    {
     "name": "stdout",
     "output_type": "stream",
     "text": [
      "13305915\n",
      "ecreture sur bdd\n"
     ]
    }
   ],
   "source": [
    "df = spark.read.option(\"header\", \"true\").option(\"inferSchema\", \"true\").csv(\"transactions_data.csv\")\n",
    "print(df.count())\n",
    "df = df.withColumn(\"situation_date\", lit(datetime.now().strftime(\"%Y-%m-%d %H:%M:%S\")))\n",
    "print(\"ecreture sur bdd\")\n",
    "df.write.jdbc(url=url, table=\"transactions\", mode=\"append\", properties=properties)\n",
    "\n",
    "print(f\"Données chargées avec succès dans la table MySQL transactions avec la date {datetime.now().strftime('%Y-%m-%d %H:%M:%S')}.\")"
   ]
  }
 ],
 "metadata": {
  "kernelspec": {
   "display_name": "Python 3 (ipykernel)",
   "language": "python",
   "name": "python3"
  },
  "language_info": {
   "codemirror_mode": {
    "name": "ipython",
    "version": 3
   },
   "file_extension": ".py",
   "mimetype": "text/x-python",
   "name": "python",
   "nbconvert_exporter": "python",
   "pygments_lexer": "ipython3",
   "version": "3.11.6"
  }
 },
 "nbformat": 4,
 "nbformat_minor": 5
}
